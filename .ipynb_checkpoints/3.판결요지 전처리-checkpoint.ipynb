{
 "cells": [
  {
   "cell_type": "code",
   "execution_count": null,
   "id": "216256c4",
   "metadata": {},
   "outputs": [],
   "source": [
    "import pandas as pd\n",
    "\n",
    "df = pd.read_excel('/Users/hwang/Desktop/유사판결문/5.도로교통법_소괄호제거.xlsx')\n",
    "\n",
    "\n",
    "stopwords = '/Users/hwang/Desktop/유사판결문/stopwords-ko.txt'\n",
    "for i in range(len(df)):\n",
    "    if pd.isnull(df['판결요지'][i]) is False:\n",
    "        text = df['판결요지'][i]\n",
    "        "
   ]
  },
  {
   "cell_type": "code",
   "execution_count": null,
   "id": "396f5b49",
   "metadata": {},
   "outputs": [],
   "source": []
  }
 ],
 "metadata": {
  "kernelspec": {
   "display_name": "Python 3",
   "language": "python",
   "name": "python3"
  },
  "language_info": {
   "codemirror_mode": {
    "name": "ipython",
    "version": 3
   },
   "file_extension": ".py",
   "mimetype": "text/x-python",
   "name": "python",
   "nbconvert_exporter": "python",
   "pygments_lexer": "ipython3",
   "version": "3.7.10"
  }
 },
 "nbformat": 4,
 "nbformat_minor": 5
}
